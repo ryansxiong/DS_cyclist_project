{
 "cells": [
  {
   "cell_type": "code",
   "execution_count": 1,
   "id": "2b49fa67",
   "metadata": {},
   "outputs": [],
   "source": [
    "import pandas as pd\n",
    "import matplotlib.pyplot as plt\n",
    "import seaborn as sns"
   ]
  },
  {
   "cell_type": "code",
   "execution_count": 2,
   "id": "8c578718",
   "metadata": {
    "scrolled": false
   },
   "outputs": [
    {
     "name": "stderr",
     "output_type": "stream",
     "text": [
      "E:\\anaconda_package\\lib\\site-packages\\IPython\\core\\interactiveshell.py:3165: DtypeWarning: Columns (5,7) have mixed types.Specify dtype option on import or set low_memory=False.\n",
      "  has_raised = await self.run_ast_nodes(code_ast.body, cell_name,\n"
     ]
    },
    {
     "data": {
      "text/html": [
       "<div>\n",
       "<style scoped>\n",
       "    .dataframe tbody tr th:only-of-type {\n",
       "        vertical-align: middle;\n",
       "    }\n",
       "\n",
       "    .dataframe tbody tr th {\n",
       "        vertical-align: top;\n",
       "    }\n",
       "\n",
       "    .dataframe thead th {\n",
       "        text-align: right;\n",
       "    }\n",
       "</style>\n",
       "<table border=\"1\" class=\"dataframe\">\n",
       "  <thead>\n",
       "    <tr style=\"text-align: right;\">\n",
       "      <th></th>\n",
       "      <th>ride_id</th>\n",
       "      <th>rideable_type</th>\n",
       "      <th>started_at</th>\n",
       "      <th>ended_at</th>\n",
       "      <th>start_station_name</th>\n",
       "      <th>start_station_id</th>\n",
       "      <th>end_station_name</th>\n",
       "      <th>end_station_id</th>\n",
       "      <th>start_lat</th>\n",
       "      <th>start_lng</th>\n",
       "      <th>end_lat</th>\n",
       "      <th>end_lng</th>\n",
       "      <th>member_casual</th>\n",
       "    </tr>\n",
       "  </thead>\n",
       "  <tbody>\n",
       "    <tr>\n",
       "      <th>0</th>\n",
       "      <td>A847FADBBC638E45</td>\n",
       "      <td>docked_bike</td>\n",
       "      <td>2020-04-26 17:45:14</td>\n",
       "      <td>2020-04-26 18:12:03</td>\n",
       "      <td>Eckhart Park</td>\n",
       "      <td>86.0</td>\n",
       "      <td>Lincoln Ave &amp; Diversey Pkwy</td>\n",
       "      <td>152.0</td>\n",
       "      <td>41.8964</td>\n",
       "      <td>-87.6610</td>\n",
       "      <td>41.9322</td>\n",
       "      <td>-87.6586</td>\n",
       "      <td>member</td>\n",
       "    </tr>\n",
       "    <tr>\n",
       "      <th>1</th>\n",
       "      <td>5405B80E996FF60D</td>\n",
       "      <td>docked_bike</td>\n",
       "      <td>2020-04-17 17:08:54</td>\n",
       "      <td>2020-04-17 17:17:03</td>\n",
       "      <td>Drake Ave &amp; Fullerton Ave</td>\n",
       "      <td>503.0</td>\n",
       "      <td>Kosciuszko Park</td>\n",
       "      <td>499.0</td>\n",
       "      <td>41.9244</td>\n",
       "      <td>-87.7154</td>\n",
       "      <td>41.9306</td>\n",
       "      <td>-87.7238</td>\n",
       "      <td>member</td>\n",
       "    </tr>\n",
       "    <tr>\n",
       "      <th>2</th>\n",
       "      <td>5DD24A79A4E006F4</td>\n",
       "      <td>docked_bike</td>\n",
       "      <td>2020-04-01 17:54:13</td>\n",
       "      <td>2020-04-01 18:08:36</td>\n",
       "      <td>McClurg Ct &amp; Erie St</td>\n",
       "      <td>142.0</td>\n",
       "      <td>Indiana Ave &amp; Roosevelt Rd</td>\n",
       "      <td>255.0</td>\n",
       "      <td>41.8945</td>\n",
       "      <td>-87.6179</td>\n",
       "      <td>41.8679</td>\n",
       "      <td>-87.6230</td>\n",
       "      <td>member</td>\n",
       "    </tr>\n",
       "    <tr>\n",
       "      <th>3</th>\n",
       "      <td>2A59BBDF5CDBA725</td>\n",
       "      <td>docked_bike</td>\n",
       "      <td>2020-04-07 12:50:19</td>\n",
       "      <td>2020-04-07 13:02:31</td>\n",
       "      <td>California Ave &amp; Division St</td>\n",
       "      <td>216.0</td>\n",
       "      <td>Wood St &amp; Augusta Blvd</td>\n",
       "      <td>657.0</td>\n",
       "      <td>41.9030</td>\n",
       "      <td>-87.6975</td>\n",
       "      <td>41.8992</td>\n",
       "      <td>-87.6722</td>\n",
       "      <td>member</td>\n",
       "    </tr>\n",
       "    <tr>\n",
       "      <th>4</th>\n",
       "      <td>27AD306C119C6158</td>\n",
       "      <td>docked_bike</td>\n",
       "      <td>2020-04-18 10:22:59</td>\n",
       "      <td>2020-04-18 11:15:54</td>\n",
       "      <td>Rush St &amp; Hubbard St</td>\n",
       "      <td>125.0</td>\n",
       "      <td>Sheridan Rd &amp; Lawrence Ave</td>\n",
       "      <td>323.0</td>\n",
       "      <td>41.8902</td>\n",
       "      <td>-87.6262</td>\n",
       "      <td>41.9695</td>\n",
       "      <td>-87.6547</td>\n",
       "      <td>casual</td>\n",
       "    </tr>\n",
       "  </tbody>\n",
       "</table>\n",
       "</div>"
      ],
      "text/plain": [
       "            ride_id rideable_type           started_at             ended_at  \\\n",
       "0  A847FADBBC638E45   docked_bike  2020-04-26 17:45:14  2020-04-26 18:12:03   \n",
       "1  5405B80E996FF60D   docked_bike  2020-04-17 17:08:54  2020-04-17 17:17:03   \n",
       "2  5DD24A79A4E006F4   docked_bike  2020-04-01 17:54:13  2020-04-01 18:08:36   \n",
       "3  2A59BBDF5CDBA725   docked_bike  2020-04-07 12:50:19  2020-04-07 13:02:31   \n",
       "4  27AD306C119C6158   docked_bike  2020-04-18 10:22:59  2020-04-18 11:15:54   \n",
       "\n",
       "             start_station_name start_station_id             end_station_name  \\\n",
       "0                  Eckhart Park             86.0  Lincoln Ave & Diversey Pkwy   \n",
       "1     Drake Ave & Fullerton Ave            503.0              Kosciuszko Park   \n",
       "2          McClurg Ct & Erie St            142.0   Indiana Ave & Roosevelt Rd   \n",
       "3  California Ave & Division St            216.0       Wood St & Augusta Blvd   \n",
       "4          Rush St & Hubbard St            125.0   Sheridan Rd & Lawrence Ave   \n",
       "\n",
       "  end_station_id  start_lat  start_lng  end_lat  end_lng member_casual  \n",
       "0          152.0    41.8964   -87.6610  41.9322 -87.6586        member  \n",
       "1          499.0    41.9244   -87.7154  41.9306 -87.7238        member  \n",
       "2          255.0    41.8945   -87.6179  41.8679 -87.6230        member  \n",
       "3          657.0    41.9030   -87.6975  41.8992 -87.6722        member  \n",
       "4          323.0    41.8902   -87.6262  41.9695 -87.6547        casual  "
      ]
     },
     "execution_count": 2,
     "metadata": {},
     "output_type": "execute_result"
    }
   ],
   "source": [
    "df = pd.read_csv('master_divvy_tripdata.csv')\n",
    "df.head()"
   ]
  },
  {
   "cell_type": "code",
   "execution_count": null,
   "id": "a91ffed0",
   "metadata": {},
   "outputs": [],
   "source": [
    "# change dates to datetime\n",
    "# separating datetime coloumns\n",
    "  ## TIME, DATE, HOUR\n",
    "# find total time riden\n",
    "# removing started_at and ended_at columns\n",
    "# find if day is 'weekday' or 'weekend'"
   ]
  },
  {
   "cell_type": "code",
   "execution_count": 3,
   "id": "3f48c0d3",
   "metadata": {
    "scrolled": true
   },
   "outputs": [
    {
     "data": {
      "text/plain": [
       "ride_id                       object\n",
       "rideable_type                 object\n",
       "started_at            datetime64[ns]\n",
       "ended_at              datetime64[ns]\n",
       "start_station_name            object\n",
       "start_station_id              object\n",
       "end_station_name              object\n",
       "end_station_id                object\n",
       "start_lat                    float64\n",
       "start_lng                    float64\n",
       "end_lat                      float64\n",
       "end_lng                      float64\n",
       "member_casual                 object\n",
       "dtype: object"
      ]
     },
     "execution_count": 3,
     "metadata": {},
     "output_type": "execute_result"
    }
   ],
   "source": [
    "# change dates to datetime\n",
    "\n",
    "df['started_at'] = pd.to_datetime(df['started_at'])\n",
    "df['ended_at'] = pd.to_datetime(df['ended_at'])\n",
    "df.dtypes"
   ]
  },
  {
   "cell_type": "code",
   "execution_count": 4,
   "id": "89250496",
   "metadata": {},
   "outputs": [],
   "source": [
    "# separating datetime coloumns\n",
    "\n",
    "df['date_started'] = df['started_at'].dt.date\n",
    "df['date_ended'] = df['ended_at'].dt.date\n",
    "df['time_started'] = df['started_at'].dt.time\n",
    "df['time_ended'] = df['ended_at'].dt.time\n",
    "df['hour_started'] = df['started_at'].dt.hour\n",
    "df['hour_ended'] = df['ended_at'].dt.hour"
   ]
  },
  {
   "cell_type": "code",
   "execution_count": 5,
   "id": "0c236d53",
   "metadata": {},
   "outputs": [
    {
     "data": {
      "text/html": [
       "<div>\n",
       "<style scoped>\n",
       "    .dataframe tbody tr th:only-of-type {\n",
       "        vertical-align: middle;\n",
       "    }\n",
       "\n",
       "    .dataframe tbody tr th {\n",
       "        vertical-align: top;\n",
       "    }\n",
       "\n",
       "    .dataframe thead th {\n",
       "        text-align: right;\n",
       "    }\n",
       "</style>\n",
       "<table border=\"1\" class=\"dataframe\">\n",
       "  <thead>\n",
       "    <tr style=\"text-align: right;\">\n",
       "      <th></th>\n",
       "      <th>ride_id</th>\n",
       "      <th>rideable_type</th>\n",
       "      <th>started_at</th>\n",
       "      <th>ended_at</th>\n",
       "      <th>start_station_name</th>\n",
       "      <th>start_station_id</th>\n",
       "      <th>end_station_name</th>\n",
       "      <th>end_station_id</th>\n",
       "      <th>start_lat</th>\n",
       "      <th>start_lng</th>\n",
       "      <th>end_lat</th>\n",
       "      <th>end_lng</th>\n",
       "      <th>member_casual</th>\n",
       "      <th>date_started</th>\n",
       "      <th>date_ended</th>\n",
       "      <th>time_started</th>\n",
       "      <th>time_ended</th>\n",
       "      <th>hour_started</th>\n",
       "      <th>hour_ended</th>\n",
       "    </tr>\n",
       "  </thead>\n",
       "  <tbody>\n",
       "    <tr>\n",
       "      <th>0</th>\n",
       "      <td>A847FADBBC638E45</td>\n",
       "      <td>docked_bike</td>\n",
       "      <td>2020-04-26 17:45:14</td>\n",
       "      <td>2020-04-26 18:12:03</td>\n",
       "      <td>Eckhart Park</td>\n",
       "      <td>86.0</td>\n",
       "      <td>Lincoln Ave &amp; Diversey Pkwy</td>\n",
       "      <td>152.0</td>\n",
       "      <td>41.8964</td>\n",
       "      <td>-87.6610</td>\n",
       "      <td>41.9322</td>\n",
       "      <td>-87.6586</td>\n",
       "      <td>member</td>\n",
       "      <td>2020-04-26</td>\n",
       "      <td>2020-04-26</td>\n",
       "      <td>17:45:14</td>\n",
       "      <td>18:12:03</td>\n",
       "      <td>17</td>\n",
       "      <td>18</td>\n",
       "    </tr>\n",
       "    <tr>\n",
       "      <th>1</th>\n",
       "      <td>5405B80E996FF60D</td>\n",
       "      <td>docked_bike</td>\n",
       "      <td>2020-04-17 17:08:54</td>\n",
       "      <td>2020-04-17 17:17:03</td>\n",
       "      <td>Drake Ave &amp; Fullerton Ave</td>\n",
       "      <td>503.0</td>\n",
       "      <td>Kosciuszko Park</td>\n",
       "      <td>499.0</td>\n",
       "      <td>41.9244</td>\n",
       "      <td>-87.7154</td>\n",
       "      <td>41.9306</td>\n",
       "      <td>-87.7238</td>\n",
       "      <td>member</td>\n",
       "      <td>2020-04-17</td>\n",
       "      <td>2020-04-17</td>\n",
       "      <td>17:08:54</td>\n",
       "      <td>17:17:03</td>\n",
       "      <td>17</td>\n",
       "      <td>17</td>\n",
       "    </tr>\n",
       "    <tr>\n",
       "      <th>2</th>\n",
       "      <td>5DD24A79A4E006F4</td>\n",
       "      <td>docked_bike</td>\n",
       "      <td>2020-04-01 17:54:13</td>\n",
       "      <td>2020-04-01 18:08:36</td>\n",
       "      <td>McClurg Ct &amp; Erie St</td>\n",
       "      <td>142.0</td>\n",
       "      <td>Indiana Ave &amp; Roosevelt Rd</td>\n",
       "      <td>255.0</td>\n",
       "      <td>41.8945</td>\n",
       "      <td>-87.6179</td>\n",
       "      <td>41.8679</td>\n",
       "      <td>-87.6230</td>\n",
       "      <td>member</td>\n",
       "      <td>2020-04-01</td>\n",
       "      <td>2020-04-01</td>\n",
       "      <td>17:54:13</td>\n",
       "      <td>18:08:36</td>\n",
       "      <td>17</td>\n",
       "      <td>18</td>\n",
       "    </tr>\n",
       "    <tr>\n",
       "      <th>3</th>\n",
       "      <td>2A59BBDF5CDBA725</td>\n",
       "      <td>docked_bike</td>\n",
       "      <td>2020-04-07 12:50:19</td>\n",
       "      <td>2020-04-07 13:02:31</td>\n",
       "      <td>California Ave &amp; Division St</td>\n",
       "      <td>216.0</td>\n",
       "      <td>Wood St &amp; Augusta Blvd</td>\n",
       "      <td>657.0</td>\n",
       "      <td>41.9030</td>\n",
       "      <td>-87.6975</td>\n",
       "      <td>41.8992</td>\n",
       "      <td>-87.6722</td>\n",
       "      <td>member</td>\n",
       "      <td>2020-04-07</td>\n",
       "      <td>2020-04-07</td>\n",
       "      <td>12:50:19</td>\n",
       "      <td>13:02:31</td>\n",
       "      <td>12</td>\n",
       "      <td>13</td>\n",
       "    </tr>\n",
       "    <tr>\n",
       "      <th>4</th>\n",
       "      <td>27AD306C119C6158</td>\n",
       "      <td>docked_bike</td>\n",
       "      <td>2020-04-18 10:22:59</td>\n",
       "      <td>2020-04-18 11:15:54</td>\n",
       "      <td>Rush St &amp; Hubbard St</td>\n",
       "      <td>125.0</td>\n",
       "      <td>Sheridan Rd &amp; Lawrence Ave</td>\n",
       "      <td>323.0</td>\n",
       "      <td>41.8902</td>\n",
       "      <td>-87.6262</td>\n",
       "      <td>41.9695</td>\n",
       "      <td>-87.6547</td>\n",
       "      <td>casual</td>\n",
       "      <td>2020-04-18</td>\n",
       "      <td>2020-04-18</td>\n",
       "      <td>10:22:59</td>\n",
       "      <td>11:15:54</td>\n",
       "      <td>10</td>\n",
       "      <td>11</td>\n",
       "    </tr>\n",
       "  </tbody>\n",
       "</table>\n",
       "</div>"
      ],
      "text/plain": [
       "            ride_id rideable_type          started_at            ended_at  \\\n",
       "0  A847FADBBC638E45   docked_bike 2020-04-26 17:45:14 2020-04-26 18:12:03   \n",
       "1  5405B80E996FF60D   docked_bike 2020-04-17 17:08:54 2020-04-17 17:17:03   \n",
       "2  5DD24A79A4E006F4   docked_bike 2020-04-01 17:54:13 2020-04-01 18:08:36   \n",
       "3  2A59BBDF5CDBA725   docked_bike 2020-04-07 12:50:19 2020-04-07 13:02:31   \n",
       "4  27AD306C119C6158   docked_bike 2020-04-18 10:22:59 2020-04-18 11:15:54   \n",
       "\n",
       "             start_station_name start_station_id             end_station_name  \\\n",
       "0                  Eckhart Park             86.0  Lincoln Ave & Diversey Pkwy   \n",
       "1     Drake Ave & Fullerton Ave            503.0              Kosciuszko Park   \n",
       "2          McClurg Ct & Erie St            142.0   Indiana Ave & Roosevelt Rd   \n",
       "3  California Ave & Division St            216.0       Wood St & Augusta Blvd   \n",
       "4          Rush St & Hubbard St            125.0   Sheridan Rd & Lawrence Ave   \n",
       "\n",
       "  end_station_id  start_lat  start_lng  end_lat  end_lng member_casual  \\\n",
       "0          152.0    41.8964   -87.6610  41.9322 -87.6586        member   \n",
       "1          499.0    41.9244   -87.7154  41.9306 -87.7238        member   \n",
       "2          255.0    41.8945   -87.6179  41.8679 -87.6230        member   \n",
       "3          657.0    41.9030   -87.6975  41.8992 -87.6722        member   \n",
       "4          323.0    41.8902   -87.6262  41.9695 -87.6547        casual   \n",
       "\n",
       "  date_started  date_ended time_started time_ended  hour_started  hour_ended  \n",
       "0   2020-04-26  2020-04-26     17:45:14   18:12:03            17          18  \n",
       "1   2020-04-17  2020-04-17     17:08:54   17:17:03            17          17  \n",
       "2   2020-04-01  2020-04-01     17:54:13   18:08:36            17          18  \n",
       "3   2020-04-07  2020-04-07     12:50:19   13:02:31            12          13  \n",
       "4   2020-04-18  2020-04-18     10:22:59   11:15:54            10          11  "
      ]
     },
     "execution_count": 5,
     "metadata": {},
     "output_type": "execute_result"
    }
   ],
   "source": [
    "df.head()"
   ]
  },
  {
   "cell_type": "code",
   "execution_count": 6,
   "id": "c949029d",
   "metadata": {
    "scrolled": false
   },
   "outputs": [
    {
     "data": {
      "text/plain": [
       "ride_id                       object\n",
       "rideable_type                 object\n",
       "started_at            datetime64[ns]\n",
       "ended_at              datetime64[ns]\n",
       "start_station_name            object\n",
       "start_station_id              object\n",
       "end_station_name              object\n",
       "end_station_id                object\n",
       "start_lat                    float64\n",
       "start_lng                    float64\n",
       "end_lat                      float64\n",
       "end_lng                      float64\n",
       "member_casual                 object\n",
       "date_started                  object\n",
       "date_ended                    object\n",
       "time_started                  object\n",
       "time_ended                    object\n",
       "hour_started                   int64\n",
       "hour_ended                     int64\n",
       "dtype: object"
      ]
     },
     "execution_count": 6,
     "metadata": {},
     "output_type": "execute_result"
    }
   ],
   "source": [
    "df.dtypes"
   ]
  },
  {
   "cell_type": "code",
   "execution_count": 7,
   "id": "44c3b8cd",
   "metadata": {
    "scrolled": true
   },
   "outputs": [
    {
     "data": {
      "text/plain": [
       "0         0 days 00:26:49\n",
       "1         0 days 00:08:09\n",
       "2         0 days 00:14:23\n",
       "3         0 days 00:12:12\n",
       "4         0 days 00:52:55\n",
       "                ...      \n",
       "6894715   0 days 02:23:51\n",
       "6894716   0 days 00:08:27\n",
       "6894717   0 days 00:41:35\n",
       "6894718   0 days 00:06:40\n",
       "6894719   0 days 00:08:29\n",
       "Name: time_riden, Length: 6894720, dtype: timedelta64[ns]"
      ]
     },
     "execution_count": 7,
     "metadata": {},
     "output_type": "execute_result"
    }
   ],
   "source": [
    "# find total time riden\n",
    "\n",
    "\n",
    "df['time_riden'] = abs(df.ended_at - df.started_at)\n",
    "df['time_riden']"
   ]
  },
  {
   "cell_type": "code",
   "execution_count": 8,
   "id": "34e54424",
   "metadata": {},
   "outputs": [],
   "source": [
    "# removing started_at and ended_at columns\n",
    "\n",
    "df = df.drop(['started_at', 'ended_at'], 1)"
   ]
  },
  {
   "cell_type": "code",
   "execution_count": 9,
   "id": "c5111370",
   "metadata": {},
   "outputs": [
    {
     "data": {
      "text/plain": [
       "(6894720, 18)"
      ]
     },
     "execution_count": 9,
     "metadata": {},
     "output_type": "execute_result"
    }
   ],
   "source": [
    "df.shape"
   ]
  },
  {
   "cell_type": "code",
   "execution_count": 10,
   "id": "066a21a6",
   "metadata": {
    "scrolled": false
   },
   "outputs": [
    {
     "data": {
      "text/html": [
       "<div>\n",
       "<style scoped>\n",
       "    .dataframe tbody tr th:only-of-type {\n",
       "        vertical-align: middle;\n",
       "    }\n",
       "\n",
       "    .dataframe tbody tr th {\n",
       "        vertical-align: top;\n",
       "    }\n",
       "\n",
       "    .dataframe thead th {\n",
       "        text-align: right;\n",
       "    }\n",
       "</style>\n",
       "<table border=\"1\" class=\"dataframe\">\n",
       "  <thead>\n",
       "    <tr style=\"text-align: right;\">\n",
       "      <th></th>\n",
       "      <th>ride_id</th>\n",
       "      <th>rideable_type</th>\n",
       "      <th>start_station_name</th>\n",
       "      <th>start_station_id</th>\n",
       "      <th>end_station_name</th>\n",
       "      <th>end_station_id</th>\n",
       "      <th>start_lat</th>\n",
       "      <th>start_lng</th>\n",
       "      <th>end_lat</th>\n",
       "      <th>end_lng</th>\n",
       "      <th>member_casual</th>\n",
       "      <th>date_started</th>\n",
       "      <th>date_ended</th>\n",
       "      <th>time_started</th>\n",
       "      <th>time_ended</th>\n",
       "      <th>hour_started</th>\n",
       "      <th>hour_ended</th>\n",
       "      <th>time_riden</th>\n",
       "    </tr>\n",
       "  </thead>\n",
       "  <tbody>\n",
       "    <tr>\n",
       "      <th>0</th>\n",
       "      <td>A847FADBBC638E45</td>\n",
       "      <td>docked_bike</td>\n",
       "      <td>Eckhart Park</td>\n",
       "      <td>86.0</td>\n",
       "      <td>Lincoln Ave &amp; Diversey Pkwy</td>\n",
       "      <td>152.0</td>\n",
       "      <td>41.8964</td>\n",
       "      <td>-87.6610</td>\n",
       "      <td>41.9322</td>\n",
       "      <td>-87.6586</td>\n",
       "      <td>member</td>\n",
       "      <td>2020-04-26</td>\n",
       "      <td>2020-04-26</td>\n",
       "      <td>17:45:14</td>\n",
       "      <td>18:12:03</td>\n",
       "      <td>17</td>\n",
       "      <td>18</td>\n",
       "      <td>0 days 00:26:49</td>\n",
       "    </tr>\n",
       "    <tr>\n",
       "      <th>1</th>\n",
       "      <td>5405B80E996FF60D</td>\n",
       "      <td>docked_bike</td>\n",
       "      <td>Drake Ave &amp; Fullerton Ave</td>\n",
       "      <td>503.0</td>\n",
       "      <td>Kosciuszko Park</td>\n",
       "      <td>499.0</td>\n",
       "      <td>41.9244</td>\n",
       "      <td>-87.7154</td>\n",
       "      <td>41.9306</td>\n",
       "      <td>-87.7238</td>\n",
       "      <td>member</td>\n",
       "      <td>2020-04-17</td>\n",
       "      <td>2020-04-17</td>\n",
       "      <td>17:08:54</td>\n",
       "      <td>17:17:03</td>\n",
       "      <td>17</td>\n",
       "      <td>17</td>\n",
       "      <td>0 days 00:08:09</td>\n",
       "    </tr>\n",
       "    <tr>\n",
       "      <th>2</th>\n",
       "      <td>5DD24A79A4E006F4</td>\n",
       "      <td>docked_bike</td>\n",
       "      <td>McClurg Ct &amp; Erie St</td>\n",
       "      <td>142.0</td>\n",
       "      <td>Indiana Ave &amp; Roosevelt Rd</td>\n",
       "      <td>255.0</td>\n",
       "      <td>41.8945</td>\n",
       "      <td>-87.6179</td>\n",
       "      <td>41.8679</td>\n",
       "      <td>-87.6230</td>\n",
       "      <td>member</td>\n",
       "      <td>2020-04-01</td>\n",
       "      <td>2020-04-01</td>\n",
       "      <td>17:54:13</td>\n",
       "      <td>18:08:36</td>\n",
       "      <td>17</td>\n",
       "      <td>18</td>\n",
       "      <td>0 days 00:14:23</td>\n",
       "    </tr>\n",
       "    <tr>\n",
       "      <th>3</th>\n",
       "      <td>2A59BBDF5CDBA725</td>\n",
       "      <td>docked_bike</td>\n",
       "      <td>California Ave &amp; Division St</td>\n",
       "      <td>216.0</td>\n",
       "      <td>Wood St &amp; Augusta Blvd</td>\n",
       "      <td>657.0</td>\n",
       "      <td>41.9030</td>\n",
       "      <td>-87.6975</td>\n",
       "      <td>41.8992</td>\n",
       "      <td>-87.6722</td>\n",
       "      <td>member</td>\n",
       "      <td>2020-04-07</td>\n",
       "      <td>2020-04-07</td>\n",
       "      <td>12:50:19</td>\n",
       "      <td>13:02:31</td>\n",
       "      <td>12</td>\n",
       "      <td>13</td>\n",
       "      <td>0 days 00:12:12</td>\n",
       "    </tr>\n",
       "    <tr>\n",
       "      <th>4</th>\n",
       "      <td>27AD306C119C6158</td>\n",
       "      <td>docked_bike</td>\n",
       "      <td>Rush St &amp; Hubbard St</td>\n",
       "      <td>125.0</td>\n",
       "      <td>Sheridan Rd &amp; Lawrence Ave</td>\n",
       "      <td>323.0</td>\n",
       "      <td>41.8902</td>\n",
       "      <td>-87.6262</td>\n",
       "      <td>41.9695</td>\n",
       "      <td>-87.6547</td>\n",
       "      <td>casual</td>\n",
       "      <td>2020-04-18</td>\n",
       "      <td>2020-04-18</td>\n",
       "      <td>10:22:59</td>\n",
       "      <td>11:15:54</td>\n",
       "      <td>10</td>\n",
       "      <td>11</td>\n",
       "      <td>0 days 00:52:55</td>\n",
       "    </tr>\n",
       "  </tbody>\n",
       "</table>\n",
       "</div>"
      ],
      "text/plain": [
       "            ride_id rideable_type            start_station_name  \\\n",
       "0  A847FADBBC638E45   docked_bike                  Eckhart Park   \n",
       "1  5405B80E996FF60D   docked_bike     Drake Ave & Fullerton Ave   \n",
       "2  5DD24A79A4E006F4   docked_bike          McClurg Ct & Erie St   \n",
       "3  2A59BBDF5CDBA725   docked_bike  California Ave & Division St   \n",
       "4  27AD306C119C6158   docked_bike          Rush St & Hubbard St   \n",
       "\n",
       "  start_station_id             end_station_name end_station_id  start_lat  \\\n",
       "0             86.0  Lincoln Ave & Diversey Pkwy          152.0    41.8964   \n",
       "1            503.0              Kosciuszko Park          499.0    41.9244   \n",
       "2            142.0   Indiana Ave & Roosevelt Rd          255.0    41.8945   \n",
       "3            216.0       Wood St & Augusta Blvd          657.0    41.9030   \n",
       "4            125.0   Sheridan Rd & Lawrence Ave          323.0    41.8902   \n",
       "\n",
       "   start_lng  end_lat  end_lng member_casual date_started  date_ended  \\\n",
       "0   -87.6610  41.9322 -87.6586        member   2020-04-26  2020-04-26   \n",
       "1   -87.7154  41.9306 -87.7238        member   2020-04-17  2020-04-17   \n",
       "2   -87.6179  41.8679 -87.6230        member   2020-04-01  2020-04-01   \n",
       "3   -87.6975  41.8992 -87.6722        member   2020-04-07  2020-04-07   \n",
       "4   -87.6262  41.9695 -87.6547        casual   2020-04-18  2020-04-18   \n",
       "\n",
       "  time_started time_ended  hour_started  hour_ended      time_riden  \n",
       "0     17:45:14   18:12:03            17          18 0 days 00:26:49  \n",
       "1     17:08:54   17:17:03            17          17 0 days 00:08:09  \n",
       "2     17:54:13   18:08:36            17          18 0 days 00:14:23  \n",
       "3     12:50:19   13:02:31            12          13 0 days 00:12:12  \n",
       "4     10:22:59   11:15:54            10          11 0 days 00:52:55  "
      ]
     },
     "execution_count": 10,
     "metadata": {},
     "output_type": "execute_result"
    }
   ],
   "source": [
    "df.head()"
   ]
  },
  {
   "cell_type": "code",
   "execution_count": 9,
   "id": "402c1c66",
   "metadata": {},
   "outputs": [],
   "source": [
    "# find if day is 'weekday' or 'weekend'\n",
    "df['date_started'] = pd.to_datetime(df['date_started'])\n",
    "df['day_of_week'] = df['date_started'].dt.dayofweek\n",
    "df['is_weekend'] = df.apply(lambda x: True if x.day_of_week == 5 or x.day_of_week == 6 else False, 1)"
   ]
  },
  {
   "cell_type": "code",
   "execution_count": 10,
   "id": "66d8a74d",
   "metadata": {},
   "outputs": [
    {
     "name": "stdout",
     "output_type": "stream",
     "text": [
      "False    3541716\n",
      "True     3353004\n",
      "dtype: int64\n"
     ]
    }
   ],
   "source": [
    "print(df.duplicated().value_counts())"
   ]
  },
  {
   "cell_type": "code",
   "execution_count": 11,
   "id": "6fdf4330",
   "metadata": {},
   "outputs": [],
   "source": [
    "# dropping duplicates\n",
    "\n",
    "df.drop_duplicates(keep='first', inplace=True)"
   ]
  },
  {
   "cell_type": "code",
   "execution_count": 12,
   "id": "de3d7d95",
   "metadata": {},
   "outputs": [
    {
     "data": {
      "text/plain": [
       "(3541716, 20)"
      ]
     },
     "execution_count": 12,
     "metadata": {},
     "output_type": "execute_result"
    }
   ],
   "source": [
    "df.shape"
   ]
  },
  {
   "cell_type": "code",
   "execution_count": 13,
   "id": "6c241db9",
   "metadata": {
    "scrolled": true
   },
   "outputs": [
    {
     "data": {
      "text/html": [
       "<div>\n",
       "<style scoped>\n",
       "    .dataframe tbody tr th:only-of-type {\n",
       "        vertical-align: middle;\n",
       "    }\n",
       "\n",
       "    .dataframe tbody tr th {\n",
       "        vertical-align: top;\n",
       "    }\n",
       "\n",
       "    .dataframe thead th {\n",
       "        text-align: right;\n",
       "    }\n",
       "</style>\n",
       "<table border=\"1\" class=\"dataframe\">\n",
       "  <thead>\n",
       "    <tr style=\"text-align: right;\">\n",
       "      <th></th>\n",
       "      <th>ride_id</th>\n",
       "      <th>rideable_type</th>\n",
       "      <th>start_station_name</th>\n",
       "      <th>start_station_id</th>\n",
       "      <th>end_station_name</th>\n",
       "      <th>end_station_id</th>\n",
       "      <th>start_lat</th>\n",
       "      <th>start_lng</th>\n",
       "      <th>end_lat</th>\n",
       "      <th>end_lng</th>\n",
       "      <th>member_casual</th>\n",
       "      <th>date_started</th>\n",
       "      <th>date_ended</th>\n",
       "      <th>time_started</th>\n",
       "      <th>time_ended</th>\n",
       "      <th>hour_started</th>\n",
       "      <th>hour_ended</th>\n",
       "      <th>time_riden</th>\n",
       "      <th>day_of_week</th>\n",
       "      <th>is_weekend</th>\n",
       "    </tr>\n",
       "  </thead>\n",
       "  <tbody>\n",
       "    <tr>\n",
       "      <th>6356987</th>\n",
       "      <td>A5AE19726EC7870A</td>\n",
       "      <td>docked_bike</td>\n",
       "      <td>Michigan Ave &amp; 8th St</td>\n",
       "      <td>623.0</td>\n",
       "      <td>Michigan Ave &amp; 8th St</td>\n",
       "      <td>623.0</td>\n",
       "      <td>41.872773</td>\n",
       "      <td>-87.623981</td>\n",
       "      <td>41.872773</td>\n",
       "      <td>-87.623981</td>\n",
       "      <td>casual</td>\n",
       "      <td>2020-11-08</td>\n",
       "      <td>2020-11-08</td>\n",
       "      <td>14:57:03</td>\n",
       "      <td>18:11:09</td>\n",
       "      <td>14</td>\n",
       "      <td>18</td>\n",
       "      <td>0 days 03:14:06</td>\n",
       "      <td>6</td>\n",
       "      <td>True</td>\n",
       "    </tr>\n",
       "    <tr>\n",
       "      <th>6356988</th>\n",
       "      <td>C18779AB84E81848</td>\n",
       "      <td>docked_bike</td>\n",
       "      <td>Orleans St &amp; Chestnut St (NEXT Apts)</td>\n",
       "      <td>620.0</td>\n",
       "      <td>Mies van der Rohe Way &amp; Chicago Ave</td>\n",
       "      <td>173.0</td>\n",
       "      <td>41.898203</td>\n",
       "      <td>-87.637536</td>\n",
       "      <td>41.896910</td>\n",
       "      <td>-87.621743</td>\n",
       "      <td>casual</td>\n",
       "      <td>2020-11-08</td>\n",
       "      <td>2020-11-08</td>\n",
       "      <td>10:24:27</td>\n",
       "      <td>10:54:01</td>\n",
       "      <td>10</td>\n",
       "      <td>10</td>\n",
       "      <td>0 days 00:29:34</td>\n",
       "      <td>6</td>\n",
       "      <td>True</td>\n",
       "    </tr>\n",
       "    <tr>\n",
       "      <th>6356989</th>\n",
       "      <td>AE4072F7EFF9F1CE</td>\n",
       "      <td>docked_bike</td>\n",
       "      <td>Franklin St &amp; Chicago Ave</td>\n",
       "      <td>31.0</td>\n",
       "      <td>St. Clair St &amp; Erie St</td>\n",
       "      <td>211.0</td>\n",
       "      <td>41.896747</td>\n",
       "      <td>-87.635668</td>\n",
       "      <td>41.894448</td>\n",
       "      <td>-87.622663</td>\n",
       "      <td>casual</td>\n",
       "      <td>2020-11-08</td>\n",
       "      <td>2020-11-08</td>\n",
       "      <td>13:25:18</td>\n",
       "      <td>13:38:41</td>\n",
       "      <td>13</td>\n",
       "      <td>13</td>\n",
       "      <td>0 days 00:13:23</td>\n",
       "      <td>6</td>\n",
       "      <td>True</td>\n",
       "    </tr>\n",
       "    <tr>\n",
       "      <th>6356990</th>\n",
       "      <td>636DA7FF283244AD</td>\n",
       "      <td>docked_bike</td>\n",
       "      <td>St. Clair St &amp; Erie St</td>\n",
       "      <td>211.0</td>\n",
       "      <td>Rush St &amp; Hubbard St</td>\n",
       "      <td>125.0</td>\n",
       "      <td>41.894448</td>\n",
       "      <td>-87.622663</td>\n",
       "      <td>41.890173</td>\n",
       "      <td>-87.626185</td>\n",
       "      <td>casual</td>\n",
       "      <td>2020-11-08</td>\n",
       "      <td>2020-11-08</td>\n",
       "      <td>13:47:41</td>\n",
       "      <td>14:18:06</td>\n",
       "      <td>13</td>\n",
       "      <td>14</td>\n",
       "      <td>0 days 00:30:25</td>\n",
       "      <td>6</td>\n",
       "      <td>True</td>\n",
       "    </tr>\n",
       "    <tr>\n",
       "      <th>6356991</th>\n",
       "      <td>6ECA8D08AA111F8A</td>\n",
       "      <td>docked_bike</td>\n",
       "      <td>Millennium Park</td>\n",
       "      <td>90.0</td>\n",
       "      <td>Wentworth Ave &amp; Cermak Rd</td>\n",
       "      <td>120.0</td>\n",
       "      <td>41.881032</td>\n",
       "      <td>-87.624084</td>\n",
       "      <td>41.853085</td>\n",
       "      <td>-87.631931</td>\n",
       "      <td>casual</td>\n",
       "      <td>2020-11-08</td>\n",
       "      <td>2020-11-08</td>\n",
       "      <td>17:42:58</td>\n",
       "      <td>18:30:39</td>\n",
       "      <td>17</td>\n",
       "      <td>18</td>\n",
       "      <td>0 days 00:47:41</td>\n",
       "      <td>6</td>\n",
       "      <td>True</td>\n",
       "    </tr>\n",
       "  </tbody>\n",
       "</table>\n",
       "</div>"
      ],
      "text/plain": [
       "                  ride_id rideable_type                    start_station_name  \\\n",
       "6356987  A5AE19726EC7870A   docked_bike                 Michigan Ave & 8th St   \n",
       "6356988  C18779AB84E81848   docked_bike  Orleans St & Chestnut St (NEXT Apts)   \n",
       "6356989  AE4072F7EFF9F1CE   docked_bike             Franklin St & Chicago Ave   \n",
       "6356990  636DA7FF283244AD   docked_bike                St. Clair St & Erie St   \n",
       "6356991  6ECA8D08AA111F8A   docked_bike                       Millennium Park   \n",
       "\n",
       "        start_station_id                     end_station_name end_station_id  \\\n",
       "6356987            623.0                Michigan Ave & 8th St          623.0   \n",
       "6356988            620.0  Mies van der Rohe Way & Chicago Ave          173.0   \n",
       "6356989             31.0               St. Clair St & Erie St          211.0   \n",
       "6356990            211.0                 Rush St & Hubbard St          125.0   \n",
       "6356991             90.0            Wentworth Ave & Cermak Rd          120.0   \n",
       "\n",
       "         start_lat  start_lng    end_lat    end_lng member_casual  \\\n",
       "6356987  41.872773 -87.623981  41.872773 -87.623981        casual   \n",
       "6356988  41.898203 -87.637536  41.896910 -87.621743        casual   \n",
       "6356989  41.896747 -87.635668  41.894448 -87.622663        casual   \n",
       "6356990  41.894448 -87.622663  41.890173 -87.626185        casual   \n",
       "6356991  41.881032 -87.624084  41.853085 -87.631931        casual   \n",
       "\n",
       "        date_started  date_ended time_started time_ended  hour_started  \\\n",
       "6356987   2020-11-08  2020-11-08     14:57:03   18:11:09            14   \n",
       "6356988   2020-11-08  2020-11-08     10:24:27   10:54:01            10   \n",
       "6356989   2020-11-08  2020-11-08     13:25:18   13:38:41            13   \n",
       "6356990   2020-11-08  2020-11-08     13:47:41   14:18:06            13   \n",
       "6356991   2020-11-08  2020-11-08     17:42:58   18:30:39            17   \n",
       "\n",
       "         hour_ended      time_riden  day_of_week  is_weekend  \n",
       "6356987          18 0 days 03:14:06            6        True  \n",
       "6356988          10 0 days 00:29:34            6        True  \n",
       "6356989          13 0 days 00:13:23            6        True  \n",
       "6356990          14 0 days 00:30:25            6        True  \n",
       "6356991          18 0 days 00:47:41            6        True  "
      ]
     },
     "execution_count": 13,
     "metadata": {},
     "output_type": "execute_result"
    }
   ],
   "source": [
    "df.tail()"
   ]
  },
  {
   "cell_type": "code",
   "execution_count": 14,
   "id": "bb2a476b",
   "metadata": {
    "scrolled": true
   },
   "outputs": [
    {
     "data": {
      "text/html": [
       "<div>\n",
       "<style scoped>\n",
       "    .dataframe tbody tr th:only-of-type {\n",
       "        vertical-align: middle;\n",
       "    }\n",
       "\n",
       "    .dataframe tbody tr th {\n",
       "        vertical-align: top;\n",
       "    }\n",
       "\n",
       "    .dataframe thead th {\n",
       "        text-align: right;\n",
       "    }\n",
       "</style>\n",
       "<table border=\"1\" class=\"dataframe\">\n",
       "  <thead>\n",
       "    <tr style=\"text-align: right;\">\n",
       "      <th></th>\n",
       "      <th>start_lat</th>\n",
       "      <th>start_lng</th>\n",
       "      <th>end_lat</th>\n",
       "      <th>end_lng</th>\n",
       "      <th>hour_started</th>\n",
       "      <th>hour_ended</th>\n",
       "      <th>time_riden</th>\n",
       "      <th>day_of_week</th>\n",
       "    </tr>\n",
       "  </thead>\n",
       "  <tbody>\n",
       "    <tr>\n",
       "      <th>count</th>\n",
       "      <td>3.541716e+06</td>\n",
       "      <td>3.541716e+06</td>\n",
       "      <td>3.536891e+06</td>\n",
       "      <td>3.536891e+06</td>\n",
       "      <td>3.541716e+06</td>\n",
       "      <td>3.541716e+06</td>\n",
       "      <td>3541716</td>\n",
       "      <td>3.541716e+06</td>\n",
       "    </tr>\n",
       "    <tr>\n",
       "      <th>mean</th>\n",
       "      <td>4.190422e+01</td>\n",
       "      <td>-8.764498e+01</td>\n",
       "      <td>4.190448e+01</td>\n",
       "      <td>-8.764526e+01</td>\n",
       "      <td>1.431372e+01</td>\n",
       "      <td>1.452436e+01</td>\n",
       "      <td>0 days 00:30:59.092443888</td>\n",
       "      <td>3.243020e+00</td>\n",
       "    </tr>\n",
       "    <tr>\n",
       "      <th>std</th>\n",
       "      <td>4.363955e-02</td>\n",
       "      <td>2.575719e-02</td>\n",
       "      <td>4.373479e-02</td>\n",
       "      <td>2.588858e-02</td>\n",
       "      <td>4.593219e+00</td>\n",
       "      <td>4.713764e+00</td>\n",
       "      <td>0 days 06:27:48.225552515</td>\n",
       "      <td>1.979890e+00</td>\n",
       "    </tr>\n",
       "    <tr>\n",
       "      <th>min</th>\n",
       "      <td>4.164000e+01</td>\n",
       "      <td>-8.787000e+01</td>\n",
       "      <td>4.154000e+01</td>\n",
       "      <td>-8.807000e+01</td>\n",
       "      <td>0.000000e+00</td>\n",
       "      <td>0.000000e+00</td>\n",
       "      <td>0 days 00:00:00</td>\n",
       "      <td>0.000000e+00</td>\n",
       "    </tr>\n",
       "    <tr>\n",
       "      <th>25%</th>\n",
       "      <td>4.188224e+01</td>\n",
       "      <td>-8.765897e+01</td>\n",
       "      <td>4.188266e+01</td>\n",
       "      <td>-8.765917e+01</td>\n",
       "      <td>1.100000e+01</td>\n",
       "      <td>1.200000e+01</td>\n",
       "      <td>0 days 00:07:55</td>\n",
       "      <td>2.000000e+00</td>\n",
       "    </tr>\n",
       "    <tr>\n",
       "      <th>50%</th>\n",
       "      <td>4.190020e+01</td>\n",
       "      <td>-8.764170e+01</td>\n",
       "      <td>4.190068e+01</td>\n",
       "      <td>-8.764275e+01</td>\n",
       "      <td>1.500000e+01</td>\n",
       "      <td>1.500000e+01</td>\n",
       "      <td>0 days 00:14:34</td>\n",
       "      <td>3.000000e+00</td>\n",
       "    </tr>\n",
       "    <tr>\n",
       "      <th>75%</th>\n",
       "      <td>4.193000e+01</td>\n",
       "      <td>-8.762773e+01</td>\n",
       "      <td>4.193122e+01</td>\n",
       "      <td>-8.762775e+01</td>\n",
       "      <td>1.800000e+01</td>\n",
       "      <td>1.800000e+01</td>\n",
       "      <td>0 days 00:26:43</td>\n",
       "      <td>5.000000e+00</td>\n",
       "    </tr>\n",
       "    <tr>\n",
       "      <th>max</th>\n",
       "      <td>4.208000e+01</td>\n",
       "      <td>-8.752000e+01</td>\n",
       "      <td>4.216000e+01</td>\n",
       "      <td>-8.744000e+01</td>\n",
       "      <td>2.300000e+01</td>\n",
       "      <td>2.300000e+01</td>\n",
       "      <td>40 days 18:40:02</td>\n",
       "      <td>6.000000e+00</td>\n",
       "    </tr>\n",
       "  </tbody>\n",
       "</table>\n",
       "</div>"
      ],
      "text/plain": [
       "          start_lat     start_lng       end_lat       end_lng  hour_started  \\\n",
       "count  3.541716e+06  3.541716e+06  3.536891e+06  3.536891e+06  3.541716e+06   \n",
       "mean   4.190422e+01 -8.764498e+01  4.190448e+01 -8.764526e+01  1.431372e+01   \n",
       "std    4.363955e-02  2.575719e-02  4.373479e-02  2.588858e-02  4.593219e+00   \n",
       "min    4.164000e+01 -8.787000e+01  4.154000e+01 -8.807000e+01  0.000000e+00   \n",
       "25%    4.188224e+01 -8.765897e+01  4.188266e+01 -8.765917e+01  1.100000e+01   \n",
       "50%    4.190020e+01 -8.764170e+01  4.190068e+01 -8.764275e+01  1.500000e+01   \n",
       "75%    4.193000e+01 -8.762773e+01  4.193122e+01 -8.762775e+01  1.800000e+01   \n",
       "max    4.208000e+01 -8.752000e+01  4.216000e+01 -8.744000e+01  2.300000e+01   \n",
       "\n",
       "         hour_ended                 time_riden   day_of_week  \n",
       "count  3.541716e+06                    3541716  3.541716e+06  \n",
       "mean   1.452436e+01  0 days 00:30:59.092443888  3.243020e+00  \n",
       "std    4.713764e+00  0 days 06:27:48.225552515  1.979890e+00  \n",
       "min    0.000000e+00            0 days 00:00:00  0.000000e+00  \n",
       "25%    1.200000e+01            0 days 00:07:55  2.000000e+00  \n",
       "50%    1.500000e+01            0 days 00:14:34  3.000000e+00  \n",
       "75%    1.800000e+01            0 days 00:26:43  5.000000e+00  \n",
       "max    2.300000e+01           40 days 18:40:02  6.000000e+00  "
      ]
     },
     "execution_count": 14,
     "metadata": {},
     "output_type": "execute_result"
    }
   ],
   "source": [
    "df.describe()"
   ]
  },
  {
   "cell_type": "code",
   "execution_count": 15,
   "id": "dec699cf",
   "metadata": {
    "scrolled": true
   },
   "outputs": [
    {
     "data": {
      "text/plain": [
       "ride_id                    0\n",
       "rideable_type              0\n",
       "start_station_name    122280\n",
       "start_station_id      122906\n",
       "end_station_name      143440\n",
       "end_station_id        143901\n",
       "start_lat                  0\n",
       "start_lng                  0\n",
       "end_lat                 4825\n",
       "end_lng                 4825\n",
       "member_casual              0\n",
       "date_started               0\n",
       "date_ended                 0\n",
       "time_started               0\n",
       "time_ended                 0\n",
       "hour_started               0\n",
       "hour_ended                 0\n",
       "time_riden                 0\n",
       "day_of_week                0\n",
       "is_weekend                 0\n",
       "dtype: int64"
      ]
     },
     "execution_count": 15,
     "metadata": {},
     "output_type": "execute_result"
    }
   ],
   "source": [
    "df.isna().sum()"
   ]
  },
  {
   "cell_type": "code",
   "execution_count": 16,
   "id": "7c0de1fd",
   "metadata": {},
   "outputs": [],
   "source": [
    "df.dropna(inplace = True)"
   ]
  },
  {
   "cell_type": "code",
   "execution_count": 17,
   "id": "96c85a70",
   "metadata": {
    "scrolled": false
   },
   "outputs": [
    {
     "data": {
      "text/html": [
       "<div>\n",
       "<style scoped>\n",
       "    .dataframe tbody tr th:only-of-type {\n",
       "        vertical-align: middle;\n",
       "    }\n",
       "\n",
       "    .dataframe tbody tr th {\n",
       "        vertical-align: top;\n",
       "    }\n",
       "\n",
       "    .dataframe thead th {\n",
       "        text-align: right;\n",
       "    }\n",
       "</style>\n",
       "<table border=\"1\" class=\"dataframe\">\n",
       "  <thead>\n",
       "    <tr style=\"text-align: right;\">\n",
       "      <th></th>\n",
       "      <th>ride_id</th>\n",
       "      <th>rideable_type</th>\n",
       "      <th>start_station_name</th>\n",
       "      <th>start_station_id</th>\n",
       "      <th>end_station_name</th>\n",
       "      <th>end_station_id</th>\n",
       "      <th>start_lat</th>\n",
       "      <th>start_lng</th>\n",
       "      <th>end_lat</th>\n",
       "      <th>end_lng</th>\n",
       "      <th>member_casual</th>\n",
       "      <th>date_started</th>\n",
       "      <th>date_ended</th>\n",
       "      <th>time_started</th>\n",
       "      <th>time_ended</th>\n",
       "      <th>hour_started</th>\n",
       "      <th>hour_ended</th>\n",
       "      <th>time_riden</th>\n",
       "      <th>day_of_week</th>\n",
       "      <th>is_weekend</th>\n",
       "    </tr>\n",
       "  </thead>\n",
       "  <tbody>\n",
       "    <tr>\n",
       "      <th>17516</th>\n",
       "      <td>FF4F7C2895AF4127</td>\n",
       "      <td>docked_bike</td>\n",
       "      <td>Wabash Ave &amp; Wacker Pl</td>\n",
       "      <td>194.0</td>\n",
       "      <td>HUBBARD ST BIKE CHECKING (LBS-WH-TEST)</td>\n",
       "      <td>671.0</td>\n",
       "      <td>41.886900</td>\n",
       "      <td>-87.626000</td>\n",
       "      <td>41.890000</td>\n",
       "      <td>-87.680700</td>\n",
       "      <td>member</td>\n",
       "      <td>2020-04-19</td>\n",
       "      <td>2020-05-30</td>\n",
       "      <td>20:50:53</td>\n",
       "      <td>15:30:55</td>\n",
       "      <td>20</td>\n",
       "      <td>15</td>\n",
       "      <td>40 days 18:40:02</td>\n",
       "      <td>6</td>\n",
       "      <td>True</td>\n",
       "    </tr>\n",
       "    <tr>\n",
       "      <th>83799</th>\n",
       "      <td>F423D1055877936F</td>\n",
       "      <td>docked_bike</td>\n",
       "      <td>Sedgwick St &amp; Schiller St</td>\n",
       "      <td>236.0</td>\n",
       "      <td>LaSalle St &amp; Jackson Blvd</td>\n",
       "      <td>283.0</td>\n",
       "      <td>41.907600</td>\n",
       "      <td>-87.638600</td>\n",
       "      <td>41.878200</td>\n",
       "      <td>-87.631900</td>\n",
       "      <td>casual</td>\n",
       "      <td>2020-04-03</td>\n",
       "      <td>2020-05-12</td>\n",
       "      <td>16:33:09</td>\n",
       "      <td>08:37:02</td>\n",
       "      <td>16</td>\n",
       "      <td>8</td>\n",
       "      <td>38 days 16:03:53</td>\n",
       "      <td>4</td>\n",
       "      <td>False</td>\n",
       "    </tr>\n",
       "    <tr>\n",
       "      <th>2037998</th>\n",
       "      <td>F6A59D72627F2711</td>\n",
       "      <td>docked_bike</td>\n",
       "      <td>Rush St &amp; Superior St</td>\n",
       "      <td>161.0</td>\n",
       "      <td>Kingsbury St &amp; Kinzie St</td>\n",
       "      <td>133.0</td>\n",
       "      <td>41.895765</td>\n",
       "      <td>-87.625908</td>\n",
       "      <td>41.889177</td>\n",
       "      <td>-87.638506</td>\n",
       "      <td>casual</td>\n",
       "      <td>2020-09-02</td>\n",
       "      <td>2020-10-10</td>\n",
       "      <td>18:34:33</td>\n",
       "      <td>11:17:54</td>\n",
       "      <td>18</td>\n",
       "      <td>11</td>\n",
       "      <td>37 days 16:43:21</td>\n",
       "      <td>2</td>\n",
       "      <td>False</td>\n",
       "    </tr>\n",
       "    <tr>\n",
       "      <th>32054</th>\n",
       "      <td>610943B07C04C09A</td>\n",
       "      <td>docked_bike</td>\n",
       "      <td>Latrobe Ave &amp; Chicago Ave</td>\n",
       "      <td>642.0</td>\n",
       "      <td>Laramie Ave &amp; Madison St</td>\n",
       "      <td>540.0</td>\n",
       "      <td>41.894700</td>\n",
       "      <td>-87.756900</td>\n",
       "      <td>41.880200</td>\n",
       "      <td>-87.755300</td>\n",
       "      <td>member</td>\n",
       "      <td>2020-04-04</td>\n",
       "      <td>2020-05-12</td>\n",
       "      <td>23:10:33</td>\n",
       "      <td>13:35:00</td>\n",
       "      <td>23</td>\n",
       "      <td>13</td>\n",
       "      <td>37 days 14:24:27</td>\n",
       "      <td>5</td>\n",
       "      <td>True</td>\n",
       "    </tr>\n",
       "    <tr>\n",
       "      <th>2074907</th>\n",
       "      <td>6F7C2DA80561D60C</td>\n",
       "      <td>docked_bike</td>\n",
       "      <td>Ashland Ave &amp; Division St</td>\n",
       "      <td>210.0</td>\n",
       "      <td>Yates Blvd &amp; 75th St</td>\n",
       "      <td>396.0</td>\n",
       "      <td>41.903450</td>\n",
       "      <td>-87.667747</td>\n",
       "      <td>41.758768</td>\n",
       "      <td>-87.566440</td>\n",
       "      <td>casual</td>\n",
       "      <td>2020-09-06</td>\n",
       "      <td>2020-10-12</td>\n",
       "      <td>23:20:29</td>\n",
       "      <td>11:46:25</td>\n",
       "      <td>23</td>\n",
       "      <td>11</td>\n",
       "      <td>35 days 12:25:56</td>\n",
       "      <td>6</td>\n",
       "      <td>True</td>\n",
       "    </tr>\n",
       "    <tr>\n",
       "      <th>...</th>\n",
       "      <td>...</td>\n",
       "      <td>...</td>\n",
       "      <td>...</td>\n",
       "      <td>...</td>\n",
       "      <td>...</td>\n",
       "      <td>...</td>\n",
       "      <td>...</td>\n",
       "      <td>...</td>\n",
       "      <td>...</td>\n",
       "      <td>...</td>\n",
       "      <td>...</td>\n",
       "      <td>...</td>\n",
       "      <td>...</td>\n",
       "      <td>...</td>\n",
       "      <td>...</td>\n",
       "      <td>...</td>\n",
       "      <td>...</td>\n",
       "      <td>...</td>\n",
       "      <td>...</td>\n",
       "      <td>...</td>\n",
       "    </tr>\n",
       "    <tr>\n",
       "      <th>872755</th>\n",
       "      <td>98AF86498040EF13</td>\n",
       "      <td>docked_bike</td>\n",
       "      <td>Lake Shore Dr &amp; Wellington Ave</td>\n",
       "      <td>157.0</td>\n",
       "      <td>Lake Shore Dr &amp; Wellington Ave</td>\n",
       "      <td>157.0</td>\n",
       "      <td>41.936688</td>\n",
       "      <td>-87.636829</td>\n",
       "      <td>41.936688</td>\n",
       "      <td>-87.636829</td>\n",
       "      <td>member</td>\n",
       "      <td>2020-07-22</td>\n",
       "      <td>2020-07-22</td>\n",
       "      <td>17:27:54</td>\n",
       "      <td>17:27:54</td>\n",
       "      <td>17</td>\n",
       "      <td>17</td>\n",
       "      <td>0 days 00:00:00</td>\n",
       "      <td>2</td>\n",
       "      <td>False</td>\n",
       "    </tr>\n",
       "    <tr>\n",
       "      <th>1799408</th>\n",
       "      <td>F87B572C07F353FC</td>\n",
       "      <td>docked_bike</td>\n",
       "      <td>Wells St &amp; Hubbard St</td>\n",
       "      <td>212.0</td>\n",
       "      <td>Ogden Ave &amp; Race Ave</td>\n",
       "      <td>186.0</td>\n",
       "      <td>41.889906</td>\n",
       "      <td>-87.634266</td>\n",
       "      <td>41.891795</td>\n",
       "      <td>-87.658751</td>\n",
       "      <td>member</td>\n",
       "      <td>2020-08-18</td>\n",
       "      <td>2020-08-18</td>\n",
       "      <td>16:42:48</td>\n",
       "      <td>16:42:48</td>\n",
       "      <td>16</td>\n",
       "      <td>16</td>\n",
       "      <td>0 days 00:00:00</td>\n",
       "      <td>1</td>\n",
       "      <td>False</td>\n",
       "    </tr>\n",
       "    <tr>\n",
       "      <th>67466</th>\n",
       "      <td>BF7D6886FDCCF51B</td>\n",
       "      <td>docked_bike</td>\n",
       "      <td>Clark St &amp; Elm St</td>\n",
       "      <td>176.0</td>\n",
       "      <td>Clark St &amp; Armitage Ave</td>\n",
       "      <td>94.0</td>\n",
       "      <td>41.903000</td>\n",
       "      <td>-87.631300</td>\n",
       "      <td>41.918300</td>\n",
       "      <td>-87.636300</td>\n",
       "      <td>member</td>\n",
       "      <td>2020-04-17</td>\n",
       "      <td>2020-04-17</td>\n",
       "      <td>16:32:04</td>\n",
       "      <td>16:32:04</td>\n",
       "      <td>16</td>\n",
       "      <td>16</td>\n",
       "      <td>0 days 00:00:00</td>\n",
       "      <td>4</td>\n",
       "      <td>False</td>\n",
       "    </tr>\n",
       "    <tr>\n",
       "      <th>161366</th>\n",
       "      <td>48C52667A9F4125C</td>\n",
       "      <td>docked_bike</td>\n",
       "      <td>Lincoln Ave &amp; Winona St</td>\n",
       "      <td>472.0</td>\n",
       "      <td>Hoyne Ave &amp; Balmoral Ave</td>\n",
       "      <td>655.0</td>\n",
       "      <td>41.974900</td>\n",
       "      <td>-87.692500</td>\n",
       "      <td>41.979900</td>\n",
       "      <td>-87.681900</td>\n",
       "      <td>member</td>\n",
       "      <td>2020-05-20</td>\n",
       "      <td>2020-05-20</td>\n",
       "      <td>15:03:29</td>\n",
       "      <td>15:03:29</td>\n",
       "      <td>15</td>\n",
       "      <td>15</td>\n",
       "      <td>0 days 00:00:00</td>\n",
       "      <td>2</td>\n",
       "      <td>False</td>\n",
       "    </tr>\n",
       "    <tr>\n",
       "      <th>1404080</th>\n",
       "      <td>7565F54965F644EC</td>\n",
       "      <td>docked_bike</td>\n",
       "      <td>Damen Ave &amp; Pierce Ave</td>\n",
       "      <td>69.0</td>\n",
       "      <td>Western Ave &amp; Fillmore St</td>\n",
       "      <td>644.0</td>\n",
       "      <td>41.909396</td>\n",
       "      <td>-87.677691</td>\n",
       "      <td>41.868563</td>\n",
       "      <td>-87.686234</td>\n",
       "      <td>member</td>\n",
       "      <td>2020-08-24</td>\n",
       "      <td>2020-08-24</td>\n",
       "      <td>20:03:27</td>\n",
       "      <td>20:03:27</td>\n",
       "      <td>20</td>\n",
       "      <td>20</td>\n",
       "      <td>0 days 00:00:00</td>\n",
       "      <td>0</td>\n",
       "      <td>False</td>\n",
       "    </tr>\n",
       "  </tbody>\n",
       "</table>\n",
       "<p>3346356 rows × 20 columns</p>\n",
       "</div>"
      ],
      "text/plain": [
       "                  ride_id rideable_type              start_station_name  \\\n",
       "17516    FF4F7C2895AF4127   docked_bike          Wabash Ave & Wacker Pl   \n",
       "83799    F423D1055877936F   docked_bike       Sedgwick St & Schiller St   \n",
       "2037998  F6A59D72627F2711   docked_bike           Rush St & Superior St   \n",
       "32054    610943B07C04C09A   docked_bike       Latrobe Ave & Chicago Ave   \n",
       "2074907  6F7C2DA80561D60C   docked_bike       Ashland Ave & Division St   \n",
       "...                   ...           ...                             ...   \n",
       "872755   98AF86498040EF13   docked_bike  Lake Shore Dr & Wellington Ave   \n",
       "1799408  F87B572C07F353FC   docked_bike           Wells St & Hubbard St   \n",
       "67466    BF7D6886FDCCF51B   docked_bike               Clark St & Elm St   \n",
       "161366   48C52667A9F4125C   docked_bike         Lincoln Ave & Winona St   \n",
       "1404080  7565F54965F644EC   docked_bike          Damen Ave & Pierce Ave   \n",
       "\n",
       "        start_station_id                        end_station_name  \\\n",
       "17516              194.0  HUBBARD ST BIKE CHECKING (LBS-WH-TEST)   \n",
       "83799              236.0               LaSalle St & Jackson Blvd   \n",
       "2037998            161.0                Kingsbury St & Kinzie St   \n",
       "32054              642.0                Laramie Ave & Madison St   \n",
       "2074907            210.0                    Yates Blvd & 75th St   \n",
       "...                  ...                                     ...   \n",
       "872755             157.0          Lake Shore Dr & Wellington Ave   \n",
       "1799408            212.0                    Ogden Ave & Race Ave   \n",
       "67466              176.0                 Clark St & Armitage Ave   \n",
       "161366             472.0                Hoyne Ave & Balmoral Ave   \n",
       "1404080             69.0               Western Ave & Fillmore St   \n",
       "\n",
       "        end_station_id  start_lat  start_lng    end_lat    end_lng  \\\n",
       "17516            671.0  41.886900 -87.626000  41.890000 -87.680700   \n",
       "83799            283.0  41.907600 -87.638600  41.878200 -87.631900   \n",
       "2037998          133.0  41.895765 -87.625908  41.889177 -87.638506   \n",
       "32054            540.0  41.894700 -87.756900  41.880200 -87.755300   \n",
       "2074907          396.0  41.903450 -87.667747  41.758768 -87.566440   \n",
       "...                ...        ...        ...        ...        ...   \n",
       "872755           157.0  41.936688 -87.636829  41.936688 -87.636829   \n",
       "1799408          186.0  41.889906 -87.634266  41.891795 -87.658751   \n",
       "67466             94.0  41.903000 -87.631300  41.918300 -87.636300   \n",
       "161366           655.0  41.974900 -87.692500  41.979900 -87.681900   \n",
       "1404080          644.0  41.909396 -87.677691  41.868563 -87.686234   \n",
       "\n",
       "        member_casual date_started  date_ended time_started time_ended  \\\n",
       "17516          member   2020-04-19  2020-05-30     20:50:53   15:30:55   \n",
       "83799          casual   2020-04-03  2020-05-12     16:33:09   08:37:02   \n",
       "2037998        casual   2020-09-02  2020-10-10     18:34:33   11:17:54   \n",
       "32054          member   2020-04-04  2020-05-12     23:10:33   13:35:00   \n",
       "2074907        casual   2020-09-06  2020-10-12     23:20:29   11:46:25   \n",
       "...               ...          ...         ...          ...        ...   \n",
       "872755         member   2020-07-22  2020-07-22     17:27:54   17:27:54   \n",
       "1799408        member   2020-08-18  2020-08-18     16:42:48   16:42:48   \n",
       "67466          member   2020-04-17  2020-04-17     16:32:04   16:32:04   \n",
       "161366         member   2020-05-20  2020-05-20     15:03:29   15:03:29   \n",
       "1404080        member   2020-08-24  2020-08-24     20:03:27   20:03:27   \n",
       "\n",
       "         hour_started  hour_ended       time_riden  day_of_week  is_weekend  \n",
       "17516              20          15 40 days 18:40:02            6        True  \n",
       "83799              16           8 38 days 16:03:53            4       False  \n",
       "2037998            18          11 37 days 16:43:21            2       False  \n",
       "32054              23          13 37 days 14:24:27            5        True  \n",
       "2074907            23          11 35 days 12:25:56            6        True  \n",
       "...               ...         ...              ...          ...         ...  \n",
       "872755             17          17  0 days 00:00:00            2       False  \n",
       "1799408            16          16  0 days 00:00:00            1       False  \n",
       "67466              16          16  0 days 00:00:00            4       False  \n",
       "161366             15          15  0 days 00:00:00            2       False  \n",
       "1404080            20          20  0 days 00:00:00            0       False  \n",
       "\n",
       "[3346356 rows x 20 columns]"
      ]
     },
     "execution_count": 17,
     "metadata": {},
     "output_type": "execute_result"
    }
   ],
   "source": [
    "time_riden = df.sort_values(['time_riden'], ascending = False)\n",
    "time_riden"
   ]
  },
  {
   "cell_type": "code",
   "execution_count": 18,
   "id": "98a1d4bc",
   "metadata": {},
   "outputs": [
    {
     "data": {
      "text/plain": [
       "Timedelta('0 days 00:30:42.984326533')"
      ]
     },
     "execution_count": 18,
     "metadata": {},
     "output_type": "execute_result"
    }
   ],
   "source": [
    "df.time_riden.mean()"
   ]
  },
  {
   "cell_type": "code",
   "execution_count": 19,
   "id": "77ca453f",
   "metadata": {
    "scrolled": true
   },
   "outputs": [
    {
     "data": {
      "text/plain": [
       "0    5\n",
       "dtype: int64"
      ]
     },
     "execution_count": 19,
     "metadata": {},
     "output_type": "execute_result"
    }
   ],
   "source": [
    "df.day_of_week.mode()"
   ]
  },
  {
   "cell_type": "code",
   "execution_count": 20,
   "id": "273400c5",
   "metadata": {},
   "outputs": [
    {
     "data": {
      "text/plain": [
       "False    2198261\n",
       "True     1148095\n",
       "Name: is_weekend, dtype: int64"
      ]
     },
     "execution_count": 20,
     "metadata": {},
     "output_type": "execute_result"
    }
   ],
   "source": [
    "df.is_weekend.value_counts()"
   ]
  },
  {
   "cell_type": "code",
   "execution_count": 21,
   "id": "7998895e",
   "metadata": {
    "scrolled": true
   },
   "outputs": [
    {
     "data": {
      "text/plain": [
       "5    639613\n",
       "6    508482\n",
       "4    495617\n",
       "3    446361\n",
       "2    444382\n",
       "1    410697\n",
       "0    401204\n",
       "Name: day_of_week, dtype: int64"
      ]
     },
     "execution_count": 21,
     "metadata": {},
     "output_type": "execute_result"
    }
   ],
   "source": [
    "df.day_of_week.value_counts(ascending = False)"
   ]
  },
  {
   "cell_type": "code",
   "execution_count": 22,
   "id": "3422a642",
   "metadata": {
    "scrolled": true
   },
   "outputs": [
    {
     "data": {
      "text/plain": [
       "5    0.191137\n",
       "6    0.151951\n",
       "4    0.148106\n",
       "3    0.133387\n",
       "2    0.132796\n",
       "1    0.122730\n",
       "0    0.119893\n",
       "Name: day_of_week, dtype: float64"
      ]
     },
     "execution_count": 22,
     "metadata": {},
     "output_type": "execute_result"
    }
   ],
   "source": [
    "df.day_of_week.value_counts(normalize = True)"
   ]
  },
  {
   "cell_type": "code",
   "execution_count": 23,
   "id": "bf68683f",
   "metadata": {},
   "outputs": [
    {
     "data": {
      "text/plain": [
       "member    1973955\n",
       "casual    1372401\n",
       "Name: member_casual, dtype: int64"
      ]
     },
     "execution_count": 23,
     "metadata": {},
     "output_type": "execute_result"
    }
   ],
   "source": [
    "df.member_casual.value_counts()"
   ]
  },
  {
   "cell_type": "code",
   "execution_count": 24,
   "id": "92590e96",
   "metadata": {},
   "outputs": [
    {
     "data": {
      "text/plain": [
       "17    344177\n",
       "18    304151\n",
       "16    295610\n",
       "15    259764\n",
       "14    239415\n",
       "13    233395\n",
       "12    225568\n",
       "19    219505\n",
       "11    189095\n",
       "10    144800\n",
       "20    141926\n",
       "8     129615\n",
       "9     122707\n",
       "7     113884\n",
       "21     92034\n",
       "22     73089\n",
       "6      67090\n",
       "23     54633\n",
       "0      32135\n",
       "5      21689\n",
       "1      19348\n",
       "2      10469\n",
       "4       6401\n",
       "3       5856\n",
       "Name: hour_started, dtype: int64"
      ]
     },
     "execution_count": 24,
     "metadata": {},
     "output_type": "execute_result"
    }
   ],
   "source": [
    "df.hour_started.value_counts()"
   ]
  },
  {
   "cell_type": "code",
   "execution_count": 25,
   "id": "ae2d89d2",
   "metadata": {},
   "outputs": [
    {
     "data": {
      "text/plain": [
       "<AxesSubplot:>"
      ]
     },
     "execution_count": 25,
     "metadata": {},
     "output_type": "execute_result"
    },
    {
     "data": {
      "image/png": "[encoded data removed]",
      "text/plain": [
       "<Figure size 432x288 with 1 Axes>"
      ]
     },
     "metadata": {
      "needs_background": "light"
     },
     "output_type": "display_data"
    }
   ],
   "source": [
    "df.day_of_week.hist()"
   ]
  },
  {
   "cell_type": "code",
   "execution_count": 26,
   "id": "230fb27d",
   "metadata": {
    "scrolled": true
   },
   "outputs": [
    {
     "data": {
      "text/plain": [
       "Streeter Dr & Grand Ave            35184\n",
       "Clark St & Elm St                  32501\n",
       "Theater on the Lake                29692\n",
       "Lake Shore Dr & Monroe St          29670\n",
       "Lake Shore Dr & North Blvd         27127\n",
       "                                   ...  \n",
       "Kedzie Ave & 110th St                  3\n",
       "W Washington Blvd & N Peoria St        3\n",
       "Stewart Ave & 63rd St (*)              1\n",
       "N Hampden Ct & W Diversey Ave          1\n",
       "N Carpenter St & W Lake St             1\n",
       "Name: start_station_name, Length: 702, dtype: int64"
      ]
     },
     "execution_count": 26,
     "metadata": {},
     "output_type": "execute_result"
    }
   ],
   "source": [
    "df.start_station_name.value_counts()"
   ]
  },
  {
   "cell_type": "code",
   "execution_count": 27,
   "id": "d6a9a166",
   "metadata": {},
   "outputs": [
    {
     "data": {
      "text/plain": [
       "Streeter Dr & Grand Ave          37468\n",
       "Clark St & Elm St                32407\n",
       "Theater on the Lake              31182\n",
       "Lake Shore Dr & Monroe St        29158\n",
       "Lake Shore Dr & North Blvd       27722\n",
       "                                 ...  \n",
       "Torrence Ave & 126th Pl              3\n",
       "Kedzie Ave & 110th St                2\n",
       "N Damen Ave & W Wabansia St          2\n",
       "Avenue L & 114th St                  1\n",
       "N Hampden Ct & W Diversey Ave        1\n",
       "Name: end_station_name, Length: 704, dtype: int64"
      ]
     },
     "execution_count": 27,
     "metadata": {},
     "output_type": "execute_result"
    }
   ],
   "source": [
    "df.end_station_name.value_counts()"
   ]
  },
  {
   "cell_type": "code",
   "execution_count": 28,
   "id": "13176454",
   "metadata": {
    "scrolled": true
   },
   "outputs": [
    {
     "data": {
      "text/plain": [
       "<AxesSubplot:>"
      ]
     },
     "execution_count": 28,
     "metadata": {},
     "output_type": "execute_result"
    },
    {
     "data": {
      "image/png": "[encoded data removed]",
      "text/plain": [
       "<Figure size 432x288 with 1 Axes>"
      ]
     },
     "metadata": {
      "needs_background": "light"
     },
     "output_type": "display_data"
    }
   ],
   "source": [
    "df.boxplot(column = ['day_of_week', 'is_weekend'])"
   ]
  },
  {
   "cell_type": "code",
   "execution_count": 29,
   "id": "8d5f764e",
   "metadata": {},
   "outputs": [
    {
     "data": {
      "text/plain": [
       "Index(['ride_id', 'rideable_type', 'start_station_name', 'start_station_id',\n",
       "       'end_station_name', 'end_station_id', 'start_lat', 'start_lng',\n",
       "       'end_lat', 'end_lng', 'member_casual', 'date_started', 'date_ended',\n",
       "       'time_started', 'time_ended', 'hour_started', 'hour_ended',\n",
       "       'time_riden', 'day_of_week', 'is_weekend'],\n",
       "      dtype='object')"
      ]
     },
     "execution_count": 29,
     "metadata": {},
     "output_type": "execute_result"
    }
   ],
   "source": [
    "df.columns"
   ]
  },
  {
   "cell_type": "code",
   "execution_count": 30,
   "id": "fb39ade6",
   "metadata": {
    "scrolled": false
   },
   "outputs": [
    {
     "data": {
      "text/plain": [
       "<AxesSubplot:>"
      ]
     },
     "execution_count": 30,
     "metadata": {},
     "output_type": "execute_result"
    },
    {
     "data": {
      "image/png": "[encoded data removed]",
      "text/plain": [
       "<Figure size 1440x720 with 1 Axes>"
      ]
     },
     "metadata": {
      "needs_background": "light"
     },
     "output_type": "display_data"
    }
   ],
   "source": [
    "df['hour_started'].value_counts().plot(kind = 'bar', figsize = (20, 10))"
   ]
  },
  {
   "cell_type": "code",
   "execution_count": 39,
   "id": "51a503eb",
   "metadata": {},
   "outputs": [],
   "source": [
    "df.to_csv('cleaned_cyclist_data')"
   ]
  }
 ],
 "metadata": {
  "kernelspec": {
   "display_name": "Python 3",
   "language": "python",
   "name": "python3"
  },
  "language_info": {
   "codemirror_mode": {
    "name": "ipython",
    "version": 3
   },
   "file_extension": ".py",
   "mimetype": "text/x-python",
   "name": "python",
   "nbconvert_exporter": "python",
   "pygments_lexer": "ipython3",
   "version": "3.8.8"
  }
 },
 "nbformat": 4,
 "nbformat_minor": 5
}
